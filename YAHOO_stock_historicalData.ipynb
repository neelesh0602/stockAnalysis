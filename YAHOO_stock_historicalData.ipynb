{
 "cells": [
  {
   "cell_type": "code",
   "execution_count": 114,
   "metadata": {},
   "outputs": [],
   "source": [
    "import datetime\n",
    "import pandas as pd"
   ]
  },
  {
   "cell_type": "code",
   "execution_count": 115,
   "metadata": {},
   "outputs": [],
   "source": [
    "d=\"\""
   ]
  },
  {
   "cell_type": "code",
   "execution_count": 116,
   "metadata": {},
   "outputs": [],
   "source": [
    "def scrip_lastyear(stockcode):\n",
    "    import datetime\n",
    "    import pandas as pd\n",
    "    ts1 = str(int(datetime.datetime(2021, 4, 20).timestamp())) \n",
    "    ts2 = str(int(datetime.datetime(2022, 12, 4).timestamp()))\n",
    "\n",
    "    #interval = '1d'\n",
    "    interval = '1wk'\n",
    "    #interval = '1mo'\n",
    "\n",
    "    events = 'history'\n",
    "    #events = 'div'\n",
    "    #events = 'split'\n",
    "\n",
    "    url = 'https://query1.finance.yahoo.com/v7/finance/download/'\\\n",
    "          + stockcode + '.NS?period1=' + ts1 + '&period2=' + ts2 + '&interval='\\\n",
    "          + interval + '&events=' + events\n",
    "\n",
    "    df = pd.read_csv(url)\n",
    "    \n",
    "    df.insert(0,'Symbol',\"\")\n",
    "    df['Symbol']=stockcode\n",
    "    \n",
    "    #print (ts1, ts2)  \n"
   ]
  },
  {
   "cell_type": "code",
   "execution_count": 117,
   "metadata": {},
   "outputs": [
    {
     "data": {
      "text/html": [
       "<div>\n",
       "<style scoped>\n",
       "    .dataframe tbody tr th:only-of-type {\n",
       "        vertical-align: middle;\n",
       "    }\n",
       "\n",
       "    .dataframe tbody tr th {\n",
       "        vertical-align: top;\n",
       "    }\n",
       "\n",
       "    .dataframe thead th {\n",
       "        text-align: right;\n",
       "    }\n",
       "</style>\n",
       "<table border=\"1\" class=\"dataframe\">\n",
       "  <thead>\n",
       "    <tr style=\"text-align: right;\">\n",
       "      <th></th>\n",
       "      <th>Date</th>\n",
       "      <th>Open</th>\n",
       "      <th>High</th>\n",
       "      <th>Low</th>\n",
       "      <th>Close</th>\n",
       "      <th>Adj Close</th>\n",
       "      <th>Volume</th>\n",
       "    </tr>\n",
       "  </thead>\n",
       "  <tbody>\n",
       "    <tr>\n",
       "      <th>0</th>\n",
       "      <td>2021-04-19</td>\n",
       "      <td>335.100006</td>\n",
       "      <td>339.899994</td>\n",
       "      <td>323.299988</td>\n",
       "      <td>336.450012</td>\n",
       "      <td>328.249451</td>\n",
       "      <td>134625920</td>\n",
       "    </tr>\n",
       "    <tr>\n",
       "      <th>1</th>\n",
       "      <td>2021-04-26</td>\n",
       "      <td>339.250000</td>\n",
       "      <td>369.950012</td>\n",
       "      <td>339.250000</td>\n",
       "      <td>353.500000</td>\n",
       "      <td>344.883881</td>\n",
       "      <td>269460029</td>\n",
       "    </tr>\n",
       "    <tr>\n",
       "      <th>2</th>\n",
       "      <td>2021-05-03</td>\n",
       "      <td>349.600006</td>\n",
       "      <td>362.899994</td>\n",
       "      <td>341.399994</td>\n",
       "      <td>358.250000</td>\n",
       "      <td>349.518097</td>\n",
       "      <td>216965713</td>\n",
       "    </tr>\n",
       "    <tr>\n",
       "      <th>3</th>\n",
       "      <td>2021-05-10</td>\n",
       "      <td>360.500000</td>\n",
       "      <td>373.500000</td>\n",
       "      <td>354.750000</td>\n",
       "      <td>360.450012</td>\n",
       "      <td>351.664459</td>\n",
       "      <td>188790854</td>\n",
       "    </tr>\n",
       "    <tr>\n",
       "      <th>4</th>\n",
       "      <td>2021-05-17</td>\n",
       "      <td>364.399994</td>\n",
       "      <td>404.399994</td>\n",
       "      <td>363.649994</td>\n",
       "      <td>401.200012</td>\n",
       "      <td>391.421234</td>\n",
       "      <td>461372459</td>\n",
       "    </tr>\n",
       "    <tr>\n",
       "      <th>...</th>\n",
       "      <td>...</td>\n",
       "      <td>...</td>\n",
       "      <td>...</td>\n",
       "      <td>...</td>\n",
       "      <td>...</td>\n",
       "      <td>...</td>\n",
       "      <td>...</td>\n",
       "    </tr>\n",
       "    <tr>\n",
       "      <th>81</th>\n",
       "      <td>2022-11-07</td>\n",
       "      <td>613.000000</td>\n",
       "      <td>622.700012</td>\n",
       "      <td>598.500000</td>\n",
       "      <td>601.299988</td>\n",
       "      <td>601.299988</td>\n",
       "      <td>90349429</td>\n",
       "    </tr>\n",
       "    <tr>\n",
       "      <th>82</th>\n",
       "      <td>2022-11-14</td>\n",
       "      <td>603.950012</td>\n",
       "      <td>605.750000</td>\n",
       "      <td>591.650024</td>\n",
       "      <td>602.700012</td>\n",
       "      <td>602.700012</td>\n",
       "      <td>55900240</td>\n",
       "    </tr>\n",
       "    <tr>\n",
       "      <th>83</th>\n",
       "      <td>2022-11-21</td>\n",
       "      <td>602.099976</td>\n",
       "      <td>613.700012</td>\n",
       "      <td>595.349976</td>\n",
       "      <td>607.400024</td>\n",
       "      <td>607.400024</td>\n",
       "      <td>46851483</td>\n",
       "    </tr>\n",
       "    <tr>\n",
       "      <th>84</th>\n",
       "      <td>2022-11-28</td>\n",
       "      <td>605.599976</td>\n",
       "      <td>611.799988</td>\n",
       "      <td>598.400024</td>\n",
       "      <td>607.549988</td>\n",
       "      <td>607.549988</td>\n",
       "      <td>52226574</td>\n",
       "    </tr>\n",
       "    <tr>\n",
       "      <th>85</th>\n",
       "      <td>2022-12-02</td>\n",
       "      <td>607.500000</td>\n",
       "      <td>609.599976</td>\n",
       "      <td>604.250000</td>\n",
       "      <td>607.549988</td>\n",
       "      <td>607.549988</td>\n",
       "      <td>7531618</td>\n",
       "    </tr>\n",
       "  </tbody>\n",
       "</table>\n",
       "<p>86 rows × 7 columns</p>\n",
       "</div>"
      ],
      "text/plain": [
       "          Date        Open        High         Low       Close   Adj Close  \\\n",
       "0   2021-04-19  335.100006  339.899994  323.299988  336.450012  328.249451   \n",
       "1   2021-04-26  339.250000  369.950012  339.250000  353.500000  344.883881   \n",
       "2   2021-05-03  349.600006  362.899994  341.399994  358.250000  349.518097   \n",
       "3   2021-05-10  360.500000  373.500000  354.750000  360.450012  351.664459   \n",
       "4   2021-05-17  364.399994  404.399994  363.649994  401.200012  391.421234   \n",
       "..         ...         ...         ...         ...         ...         ...   \n",
       "81  2022-11-07  613.000000  622.700012  598.500000  601.299988  601.299988   \n",
       "82  2022-11-14  603.950012  605.750000  591.650024  602.700012  602.700012   \n",
       "83  2022-11-21  602.099976  613.700012  595.349976  607.400024  607.400024   \n",
       "84  2022-11-28  605.599976  611.799988  598.400024  607.549988  607.549988   \n",
       "85  2022-12-02  607.500000  609.599976  604.250000  607.549988  607.549988   \n",
       "\n",
       "       Volume  \n",
       "0   134625920  \n",
       "1   269460029  \n",
       "2   216965713  \n",
       "3   188790854  \n",
       "4   461372459  \n",
       "..        ...  \n",
       "81   90349429  \n",
       "82   55900240  \n",
       "83   46851483  \n",
       "84   52226574  \n",
       "85    7531618  \n",
       "\n",
       "[86 rows x 7 columns]"
      ]
     },
     "execution_count": 117,
     "metadata": {},
     "output_type": "execute_result"
    }
   ],
   "source": [
    "scrip_lastyear(\"SBIN\")\n"
   ]
  },
  {
   "cell_type": "code",
   "execution_count": 118,
   "metadata": {},
   "outputs": [
    {
     "data": {
      "text/plain": [
       "pandas.core.frame.DataFrame"
      ]
     },
     "execution_count": 118,
     "metadata": {},
     "output_type": "execute_result"
    }
   ],
   "source": [
    "type(scrip_lastyear(\"SBIN\"))"
   ]
  },
  {
   "cell_type": "code",
   "execution_count": 119,
   "metadata": {},
   "outputs": [],
   "source": [
    "ls=pd.read_excel(\"nifty_Symbols.xlsx\")\n"
   ]
  },
  {
   "cell_type": "code",
   "execution_count": 120,
   "metadata": {},
   "outputs": [
    {
     "name": "stdout",
     "output_type": "stream",
     "text": [
      "<class 'pandas.core.frame.DataFrame'>\n"
     ]
    }
   ],
   "source": [
    "print(type(ls))"
   ]
  },
  {
   "cell_type": "code",
   "execution_count": 121,
   "metadata": {},
   "outputs": [
    {
     "name": "stdout",
     "output_type": "stream",
     "text": [
      "<class 'pandas.core.series.Series'>\n"
     ]
    }
   ],
   "source": [
    "ls=ls.squeeze()\n",
    "print(type(ls))"
   ]
  },
  {
   "cell_type": "code",
   "execution_count": 122,
   "metadata": {},
   "outputs": [
    {
     "data": {
      "text/plain": [
       "range(0, 49)"
      ]
     },
     "execution_count": 122,
     "metadata": {},
     "output_type": "execute_result"
    }
   ],
   "source": [
    "range(len(ls))"
   ]
  },
  {
   "cell_type": "code",
   "execution_count": 123,
   "metadata": {},
   "outputs": [
    {
     "data": {
      "text/plain": [
       "'ADANIPORTS'"
      ]
     },
     "execution_count": 123,
     "metadata": {},
     "output_type": "execute_result"
    }
   ],
   "source": [
    "ls[0]"
   ]
  },
  {
   "cell_type": "code",
   "execution_count": 124,
   "metadata": {},
   "outputs": [
    {
     "data": {
      "text/html": [
       "<div>\n",
       "<style scoped>\n",
       "    .dataframe tbody tr th:only-of-type {\n",
       "        vertical-align: middle;\n",
       "    }\n",
       "\n",
       "    .dataframe tbody tr th {\n",
       "        vertical-align: top;\n",
       "    }\n",
       "\n",
       "    .dataframe thead th {\n",
       "        text-align: right;\n",
       "    }\n",
       "</style>\n",
       "<table border=\"1\" class=\"dataframe\">\n",
       "  <thead>\n",
       "    <tr style=\"text-align: right;\">\n",
       "      <th></th>\n",
       "      <th>Date</th>\n",
       "      <th>Open</th>\n",
       "      <th>High</th>\n",
       "      <th>Low</th>\n",
       "      <th>Close</th>\n",
       "      <th>Adj Close</th>\n",
       "      <th>Volume</th>\n",
       "    </tr>\n",
       "  </thead>\n",
       "  <tbody>\n",
       "    <tr>\n",
       "      <th>0</th>\n",
       "      <td>2021-04-19</td>\n",
       "      <td>744.700012</td>\n",
       "      <td>746.900024</td>\n",
       "      <td>689.500000</td>\n",
       "      <td>725.349976</td>\n",
       "      <td>715.348083</td>\n",
       "      <td>66591152</td>\n",
       "    </tr>\n",
       "    <tr>\n",
       "      <th>1</th>\n",
       "      <td>2021-04-26</td>\n",
       "      <td>733.000000</td>\n",
       "      <td>765.849976</td>\n",
       "      <td>724.500000</td>\n",
       "      <td>730.049988</td>\n",
       "      <td>719.983276</td>\n",
       "      <td>67573477</td>\n",
       "    </tr>\n",
       "    <tr>\n",
       "      <th>2</th>\n",
       "      <td>2021-05-03</td>\n",
       "      <td>727.650024</td>\n",
       "      <td>782.000000</td>\n",
       "      <td>713.750000</td>\n",
       "      <td>767.750000</td>\n",
       "      <td>757.163452</td>\n",
       "      <td>119489754</td>\n",
       "    </tr>\n",
       "    <tr>\n",
       "      <th>3</th>\n",
       "      <td>2021-05-10</td>\n",
       "      <td>774.400024</td>\n",
       "      <td>789.700012</td>\n",
       "      <td>727.500000</td>\n",
       "      <td>733.549988</td>\n",
       "      <td>723.434998</td>\n",
       "      <td>43670761</td>\n",
       "    </tr>\n",
       "    <tr>\n",
       "      <th>4</th>\n",
       "      <td>2021-05-17</td>\n",
       "      <td>740.000000</td>\n",
       "      <td>791.900024</td>\n",
       "      <td>737.000000</td>\n",
       "      <td>769.200012</td>\n",
       "      <td>758.593445</td>\n",
       "      <td>50054715</td>\n",
       "    </tr>\n",
       "    <tr>\n",
       "      <th>...</th>\n",
       "      <td>...</td>\n",
       "      <td>...</td>\n",
       "      <td>...</td>\n",
       "      <td>...</td>\n",
       "      <td>...</td>\n",
       "      <td>...</td>\n",
       "      <td>...</td>\n",
       "    </tr>\n",
       "    <tr>\n",
       "      <th>81</th>\n",
       "      <td>2022-11-07</td>\n",
       "      <td>867.200012</td>\n",
       "      <td>907.799988</td>\n",
       "      <td>845.549988</td>\n",
       "      <td>894.500000</td>\n",
       "      <td>894.500000</td>\n",
       "      <td>46767717</td>\n",
       "    </tr>\n",
       "    <tr>\n",
       "      <th>82</th>\n",
       "      <td>2022-11-14</td>\n",
       "      <td>895.000000</td>\n",
       "      <td>916.000000</td>\n",
       "      <td>874.400024</td>\n",
       "      <td>888.900024</td>\n",
       "      <td>888.900024</td>\n",
       "      <td>40408482</td>\n",
       "    </tr>\n",
       "    <tr>\n",
       "      <th>83</th>\n",
       "      <td>2022-11-21</td>\n",
       "      <td>885.000000</td>\n",
       "      <td>888.000000</td>\n",
       "      <td>866.650024</td>\n",
       "      <td>879.599976</td>\n",
       "      <td>879.599976</td>\n",
       "      <td>27084682</td>\n",
       "    </tr>\n",
       "    <tr>\n",
       "      <th>84</th>\n",
       "      <td>2022-11-28</td>\n",
       "      <td>876.000000</td>\n",
       "      <td>903.599976</td>\n",
       "      <td>873.299988</td>\n",
       "      <td>888.200012</td>\n",
       "      <td>888.200012</td>\n",
       "      <td>22400064</td>\n",
       "    </tr>\n",
       "    <tr>\n",
       "      <th>85</th>\n",
       "      <td>2022-12-02</td>\n",
       "      <td>894.000000</td>\n",
       "      <td>903.599976</td>\n",
       "      <td>884.250000</td>\n",
       "      <td>888.200012</td>\n",
       "      <td>888.200012</td>\n",
       "      <td>6278341</td>\n",
       "    </tr>\n",
       "  </tbody>\n",
       "</table>\n",
       "<p>86 rows × 7 columns</p>\n",
       "</div>"
      ],
      "text/plain": [
       "          Date        Open        High         Low       Close   Adj Close  \\\n",
       "0   2021-04-19  744.700012  746.900024  689.500000  725.349976  715.348083   \n",
       "1   2021-04-26  733.000000  765.849976  724.500000  730.049988  719.983276   \n",
       "2   2021-05-03  727.650024  782.000000  713.750000  767.750000  757.163452   \n",
       "3   2021-05-10  774.400024  789.700012  727.500000  733.549988  723.434998   \n",
       "4   2021-05-17  740.000000  791.900024  737.000000  769.200012  758.593445   \n",
       "..         ...         ...         ...         ...         ...         ...   \n",
       "81  2022-11-07  867.200012  907.799988  845.549988  894.500000  894.500000   \n",
       "82  2022-11-14  895.000000  916.000000  874.400024  888.900024  888.900024   \n",
       "83  2022-11-21  885.000000  888.000000  866.650024  879.599976  879.599976   \n",
       "84  2022-11-28  876.000000  903.599976  873.299988  888.200012  888.200012   \n",
       "85  2022-12-02  894.000000  903.599976  884.250000  888.200012  888.200012   \n",
       "\n",
       "       Volume  \n",
       "0    66591152  \n",
       "1    67573477  \n",
       "2   119489754  \n",
       "3    43670761  \n",
       "4    50054715  \n",
       "..        ...  \n",
       "81   46767717  \n",
       "82   40408482  \n",
       "83   27084682  \n",
       "84   22400064  \n",
       "85    6278341  \n",
       "\n",
       "[86 rows x 7 columns]"
      ]
     },
     "execution_count": 124,
     "metadata": {},
     "output_type": "execute_result"
    }
   ],
   "source": [
    "scrip_lastyear(ls[0])"
   ]
  },
  {
   "cell_type": "code",
   "execution_count": 125,
   "metadata": {},
   "outputs": [
    {
     "name": "stdout",
     "output_type": "stream",
     "text": [
      "          Date         Open         High          Low        Close  \\\n",
      "0   2021-04-19   744.700012   746.900024   689.500000   725.349976   \n",
      "1   2021-04-26   733.000000   765.849976   724.500000   730.049988   \n",
      "2   2021-05-03   727.650024   782.000000   713.750000   767.750000   \n",
      "3   2021-05-10   774.400024   789.700012   727.500000   733.549988   \n",
      "4   2021-05-17   740.000000   791.900024   737.000000   769.200012   \n",
      "..         ...          ...          ...          ...          ...   \n",
      "81  2022-11-07  3186.000000  3198.000000  3033.500000  3055.399902   \n",
      "82  2022-11-14  3056.000000  3114.850098  3041.050049  3095.500000   \n",
      "83  2022-11-21  3105.000000  3120.250000  3066.199951  3108.149902   \n",
      "84  2022-11-28  3108.149902  3199.949951  3096.699951  3143.449951   \n",
      "85  2022-12-02  3173.149902  3174.300049  3134.000000  3143.449951   \n",
      "\n",
      "      Adj Close     Volume  \n",
      "0    715.348083   66591152  \n",
      "1    719.983276   67573477  \n",
      "2    757.163452  119489754  \n",
      "3    723.434998   43670761  \n",
      "4    758.593445   50054715  \n",
      "..          ...        ...  \n",
      "81  3055.399902    5246571  \n",
      "82  3095.500000    4421342  \n",
      "83  3108.149902    3335255  \n",
      "84  3143.449951    6033668  \n",
      "85  3143.449951     931678  \n",
      "\n",
      "[172 rows x 7 columns]\n"
     ]
    }
   ],
   "source": [
    "print(pd.concat([scrip_lastyear(ls[0]),scrip_lastyear(ls[1])]))"
   ]
  },
  {
   "cell_type": "code",
   "execution_count": 126,
   "metadata": {},
   "outputs": [],
   "source": [
    "def nifty_df(ls):\n",
    "    import pandas as pd\n",
    "    tab=pd.DataFrame()\n",
    "    i=0\n",
    "    for i in range(len(ls)-1):\n",
    "        tab =pd.concat([tab,scrip_lastyear(ls[i])])\n",
    "    return tab\n",
    "    "
   ]
  },
  {
   "cell_type": "code",
   "execution_count": 127,
   "metadata": {},
   "outputs": [],
   "source": [
    "out=nifty_df(ls)"
   ]
  },
  {
   "cell_type": "code",
   "execution_count": 128,
   "metadata": {},
   "outputs": [
    {
     "name": "stdout",
     "output_type": "stream",
     "text": [
      "         Date        Open        High     Low       Close   Adj Close  \\\n",
      "0  2021-04-19  744.700012  746.900024  689.50  725.349976  715.348083   \n",
      "1  2021-04-26  733.000000  765.849976  724.50  730.049988  719.983276   \n",
      "2  2021-05-03  727.650024  782.000000  713.75  767.750000  757.163452   \n",
      "3  2021-05-10  774.400024  789.700012  727.50  733.549988  723.434998   \n",
      "4  2021-05-17  740.000000  791.900024  737.00  769.200012  758.593445   \n",
      "\n",
      "      Volume  \n",
      "0   66591152  \n",
      "1   67573477  \n",
      "2  119489754  \n",
      "3   43670761  \n",
      "4   50054715  \n"
     ]
    }
   ],
   "source": [
    "print(out.head())"
   ]
  },
  {
   "cell_type": "code",
   "execution_count": 129,
   "metadata": {},
   "outputs": [
    {
     "data": {
      "text/plain": [
       "28896"
      ]
     },
     "execution_count": 129,
     "metadata": {},
     "output_type": "execute_result"
    }
   ],
   "source": [
    "out.size"
   ]
  },
  {
   "cell_type": "code",
   "execution_count": 130,
   "metadata": {},
   "outputs": [
    {
     "data": {
      "text/plain": [
       "(4128, 7)"
      ]
     },
     "execution_count": 130,
     "metadata": {},
     "output_type": "execute_result"
    }
   ],
   "source": [
    "out.shape"
   ]
  },
  {
   "cell_type": "code",
   "execution_count": 131,
   "metadata": {},
   "outputs": [],
   "source": [
    "out.to_excel(\"output.xlsx\")"
   ]
  },
  {
   "cell_type": "code",
   "execution_count": 132,
   "metadata": {},
   "outputs": [
    {
     "name": "stdout",
     "output_type": "stream",
     "text": [
      "https://query1.finance.yahoo.com/v7/finance/download/SBIN.NS?period1=1619766000&period2=1667545200&interval=1wk&events=history\n",
      "1619766000 1667545200\n"
     ]
    }
   ],
   "source": [
    "stockcode ='SBIN'\n",
    "\n",
    "ts1 = str(int(datetime.datetime(2021, 4, 30).timestamp())) \n",
    "ts2 = str(int(datetime.datetime(2022, 11, 4).timestamp()))\n",
    "\n",
    "#interval = '1d'\n",
    "interval = '1wk'\n",
    "#interval = '1mo'\n",
    "\n",
    "events = 'history'\n",
    "#events = 'div'\n",
    "#events = 'split'\n",
    "\n",
    "url = 'https://query1.finance.yahoo.com/v7/finance/download/'\\\n",
    "      + stockcode + '.NS?period1=' + ts1 + '&period2=' + ts2 + '&interval='\\\n",
    "      + interval + '&events=' + events\n",
    "\n",
    "print(url)\n",
    "print (ts1, ts2)"
   ]
  },
  {
   "cell_type": "code",
   "execution_count": null,
   "metadata": {},
   "outputs": [],
   "source": []
  },
  {
   "cell_type": "code",
   "execution_count": 133,
   "metadata": {},
   "outputs": [
    {
     "name": "stdout",
     "output_type": "stream",
     "text": [
      "0     ADANIPORTS\n",
      "1     ASIANPAINT\n",
      "2       AXISBANK\n",
      "3     BAJAJ-AUTO\n",
      "4     BAJAJFINSV\n",
      "5     BAJFINANCE\n",
      "6     BHARTIARTL\n",
      "7           BPCL\n",
      "8      BRITANNIA\n",
      "9          CIPLA\n",
      "10     COALINDIA\n",
      "11       DRREDDY\n",
      "12     EICHERMOT\n",
      "13          GAIL\n",
      "14        GRASIM\n",
      "15       HCLTECH\n",
      "16          HDFC\n",
      "17      HDFCBANK\n",
      "18    HEROMOTOCO\n",
      "19      HINDALCO\n",
      "20    HINDUNILVR\n",
      "21     ICICIBANK\n",
      "22    INDUSINDBK\n",
      "23          INFY\n",
      "24           IOC\n",
      "25           ITC\n",
      "26      JSWSTEEL\n",
      "27     KOTAKBANK\n",
      "28            LT\n",
      "29           M&M\n",
      "30        MARUTI\n",
      "31     NESTLEIND\n",
      "32          NTPC\n",
      "33          ONGC\n",
      "34     POWERGRID\n",
      "35      RELIANCE\n",
      "36          SBIN\n",
      "37      SHREECEM\n",
      "38     SUNPHARMA\n",
      "39    TATAMOTORS\n",
      "40     TATASTEEL\n",
      "41           TCS\n",
      "42         TECHM\n",
      "43         TITAN\n",
      "44    ULTRACEMCO\n",
      "45           UPL\n",
      "46          VEDL\n",
      "47         WIPRO\n",
      "48          ZEEL\n",
      "Name: Symbol, dtype: object\n"
     ]
    }
   ],
   "source": [
    "print(ls)"
   ]
  },
  {
   "cell_type": "code",
   "execution_count": 134,
   "metadata": {},
   "outputs": [
    {
     "name": "stdout",
     "output_type": "stream",
     "text": [
      "          Date        Open        High         Low       Close   Adj Close  \\\n",
      "0   2021-04-26  353.450012  362.500000  350.450012  353.500000  344.883850   \n",
      "1   2021-05-03  349.600006  362.899994  341.399994  358.250000  349.518097   \n",
      "2   2021-05-10  360.500000  373.500000  354.750000  360.450012  351.664490   \n",
      "3   2021-05-17  364.399994  404.399994  363.649994  401.200012  391.421234   \n",
      "4   2021-05-24  417.000000  433.649994  405.299988  422.049988  411.763031   \n",
      "..         ...         ...         ...         ...         ...         ...   \n",
      "75  2022-10-03  527.599976  541.799988  518.500000  530.200012  530.200012   \n",
      "76  2022-10-10  525.700012  535.000000  520.200012  527.200012  527.200012   \n",
      "77  2022-10-17  526.400024  565.799988  524.200012  560.849976  560.849976   \n",
      "78  2022-10-24  567.000000  586.200012  565.900024  570.750000  570.750000   \n",
      "79  2022-10-31  574.950012  596.950012  568.000000  593.950012  593.950012   \n",
      "\n",
      "       Volume  \n",
      "0    53832840  \n",
      "1   216965713  \n",
      "2   188790854  \n",
      "3   461372459  \n",
      "4   389900463  \n",
      "..        ...  \n",
      "75   38669678  \n",
      "76   50515580  \n",
      "77   66459940  \n",
      "78   47248566  \n",
      "79   75522687  \n",
      "\n",
      "[80 rows x 7 columns]\n"
     ]
    }
   ],
   "source": [
    "try:\n",
    "    stockdata = pd.read_csv(url)\n",
    "    print(stockdata)\n",
    "except:\n",
    "    print(\"Not able to fetch value for code : \"+stockcode)\n",
    "    print(\"Either stock code is not correct or could be connectivity issue..\")"
   ]
  },
  {
   "cell_type": "code",
   "execution_count": null,
   "metadata": {},
   "outputs": [],
   "source": []
  }
 ],
 "metadata": {
  "kernelspec": {
   "display_name": "Python 3 (ipykernel)",
   "language": "python",
   "name": "python3"
  },
  "language_info": {
   "codemirror_mode": {
    "name": "ipython",
    "version": 3
   },
   "file_extension": ".py",
   "mimetype": "text/x-python",
   "name": "python",
   "nbconvert_exporter": "python",
   "pygments_lexer": "ipython3",
   "version": "3.9.12"
  }
 },
 "nbformat": 4,
 "nbformat_minor": 2
}
