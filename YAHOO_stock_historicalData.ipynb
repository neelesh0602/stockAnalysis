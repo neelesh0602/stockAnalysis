{
 "cells": [
  {
   "cell_type": "code",
   "execution_count": 301,
   "metadata": {},
   "outputs": [],
   "source": [
    "import datetime\n",
    "import pandas as pd"
   ]
  },
  {
   "cell_type": "code",
   "execution_count": 302,
   "metadata": {},
   "outputs": [],
   "source": [
    "d=\"\""
   ]
  },
  {
   "cell_type": "code",
   "execution_count": 303,
   "metadata": {},
   "outputs": [],
   "source": [
    "def scrip_lastyear(stockcode):\n",
    "    import datetime\n",
    "    import pandas as pd\n",
    "    ts1 = str(int(datetime.datetime(2021, 5, 1).timestamp())) \n",
    "    ts2 = str(int(datetime.datetime(2022, 12, 4).timestamp()))\n",
    "\n",
    "    interval = '1d'\n",
    "    #interval = '1wk'\n",
    "    #interval = '1mo'\n",
    "\n",
    "    events = 'history'\n",
    "    #events = 'div'\n",
    "    #events = 'split'\n",
    "\n",
    "    url = 'https://query1.finance.yahoo.com/v7/finance/download/'\\\n",
    "          + stockcode + '.NS?period1=' + ts1 + '&period2=' + ts2 + '&interval='\\\n",
    "          + interval + '&events=' + events\n",
    "\n",
    "    df = pd.read_csv(url)\n",
    "    \n",
    "    df.insert(1,'Symbol',\"\")\n",
    "    df['Symbol']=stockcode\n",
    "    df = df.reset_index(drop=True)\n",
    "\n",
    "    return df\n",
    "    \n",
    "    #print (ts1, ts2)  \n"
   ]
  },
  {
   "cell_type": "code",
   "execution_count": 304,
   "metadata": {},
   "outputs": [
    {
     "data": {
      "text/html": [
       "<div>\n",
       "<style scoped>\n",
       "    .dataframe tbody tr th:only-of-type {\n",
       "        vertical-align: middle;\n",
       "    }\n",
       "\n",
       "    .dataframe tbody tr th {\n",
       "        vertical-align: top;\n",
       "    }\n",
       "\n",
       "    .dataframe thead th {\n",
       "        text-align: right;\n",
       "    }\n",
       "</style>\n",
       "<table border=\"1\" class=\"dataframe\">\n",
       "  <thead>\n",
       "    <tr style=\"text-align: right;\">\n",
       "      <th></th>\n",
       "      <th>Date</th>\n",
       "      <th>Symbol</th>\n",
       "      <th>Open</th>\n",
       "      <th>High</th>\n",
       "      <th>Low</th>\n",
       "      <th>Close</th>\n",
       "      <th>Adj Close</th>\n",
       "      <th>Volume</th>\n",
       "    </tr>\n",
       "  </thead>\n",
       "  <tbody>\n",
       "    <tr>\n",
       "      <th>0</th>\n",
       "      <td>2021-05-03</td>\n",
       "      <td>SBIN</td>\n",
       "      <td>349.600006</td>\n",
       "      <td>352.500000</td>\n",
       "      <td>341.399994</td>\n",
       "      <td>350.600006</td>\n",
       "      <td>342.054565</td>\n",
       "      <td>43691860</td>\n",
       "    </tr>\n",
       "    <tr>\n",
       "      <th>1</th>\n",
       "      <td>2021-05-04</td>\n",
       "      <td>SBIN</td>\n",
       "      <td>355.000000</td>\n",
       "      <td>362.899994</td>\n",
       "      <td>350.200012</td>\n",
       "      <td>351.500000</td>\n",
       "      <td>342.932617</td>\n",
       "      <td>57749307</td>\n",
       "    </tr>\n",
       "    <tr>\n",
       "      <th>2</th>\n",
       "      <td>2021-05-05</td>\n",
       "      <td>SBIN</td>\n",
       "      <td>356.500000</td>\n",
       "      <td>357.450012</td>\n",
       "      <td>348.000000</td>\n",
       "      <td>355.399994</td>\n",
       "      <td>346.737549</td>\n",
       "      <td>40872501</td>\n",
       "    </tr>\n",
       "    <tr>\n",
       "      <th>3</th>\n",
       "      <td>2021-05-06</td>\n",
       "      <td>SBIN</td>\n",
       "      <td>358.000000</td>\n",
       "      <td>359.350006</td>\n",
       "      <td>350.549988</td>\n",
       "      <td>355.549988</td>\n",
       "      <td>346.883881</td>\n",
       "      <td>36294427</td>\n",
       "    </tr>\n",
       "    <tr>\n",
       "      <th>4</th>\n",
       "      <td>2021-05-07</td>\n",
       "      <td>SBIN</td>\n",
       "      <td>357.500000</td>\n",
       "      <td>362.000000</td>\n",
       "      <td>353.000000</td>\n",
       "      <td>358.250000</td>\n",
       "      <td>349.518097</td>\n",
       "      <td>38357618</td>\n",
       "    </tr>\n",
       "    <tr>\n",
       "      <th>...</th>\n",
       "      <td>...</td>\n",
       "      <td>...</td>\n",
       "      <td>...</td>\n",
       "      <td>...</td>\n",
       "      <td>...</td>\n",
       "      <td>...</td>\n",
       "      <td>...</td>\n",
       "      <td>...</td>\n",
       "    </tr>\n",
       "    <tr>\n",
       "      <th>391</th>\n",
       "      <td>2022-11-28</td>\n",
       "      <td>SBIN</td>\n",
       "      <td>605.599976</td>\n",
       "      <td>610.900024</td>\n",
       "      <td>602.349976</td>\n",
       "      <td>608.599976</td>\n",
       "      <td>608.599976</td>\n",
       "      <td>7934274</td>\n",
       "    </tr>\n",
       "    <tr>\n",
       "      <th>392</th>\n",
       "      <td>2022-11-29</td>\n",
       "      <td>SBIN</td>\n",
       "      <td>607.099976</td>\n",
       "      <td>611.799988</td>\n",
       "      <td>607.099976</td>\n",
       "      <td>608.549988</td>\n",
       "      <td>608.549988</td>\n",
       "      <td>6942919</td>\n",
       "    </tr>\n",
       "    <tr>\n",
       "      <th>393</th>\n",
       "      <td>2022-11-30</td>\n",
       "      <td>SBIN</td>\n",
       "      <td>608.500000</td>\n",
       "      <td>611.400024</td>\n",
       "      <td>598.400024</td>\n",
       "      <td>602.450012</td>\n",
       "      <td>602.450012</td>\n",
       "      <td>15606230</td>\n",
       "    </tr>\n",
       "    <tr>\n",
       "      <th>394</th>\n",
       "      <td>2022-12-01</td>\n",
       "      <td>SBIN</td>\n",
       "      <td>607.849976</td>\n",
       "      <td>609.799988</td>\n",
       "      <td>601.549988</td>\n",
       "      <td>608.099976</td>\n",
       "      <td>608.099976</td>\n",
       "      <td>14209313</td>\n",
       "    </tr>\n",
       "    <tr>\n",
       "      <th>395</th>\n",
       "      <td>2022-12-02</td>\n",
       "      <td>SBIN</td>\n",
       "      <td>607.500000</td>\n",
       "      <td>609.599976</td>\n",
       "      <td>604.250000</td>\n",
       "      <td>607.549988</td>\n",
       "      <td>607.549988</td>\n",
       "      <td>7533838</td>\n",
       "    </tr>\n",
       "  </tbody>\n",
       "</table>\n",
       "<p>396 rows × 8 columns</p>\n",
       "</div>"
      ],
      "text/plain": [
       "           Date Symbol        Open        High         Low       Close  \\\n",
       "0    2021-05-03   SBIN  349.600006  352.500000  341.399994  350.600006   \n",
       "1    2021-05-04   SBIN  355.000000  362.899994  350.200012  351.500000   \n",
       "2    2021-05-05   SBIN  356.500000  357.450012  348.000000  355.399994   \n",
       "3    2021-05-06   SBIN  358.000000  359.350006  350.549988  355.549988   \n",
       "4    2021-05-07   SBIN  357.500000  362.000000  353.000000  358.250000   \n",
       "..          ...    ...         ...         ...         ...         ...   \n",
       "391  2022-11-28   SBIN  605.599976  610.900024  602.349976  608.599976   \n",
       "392  2022-11-29   SBIN  607.099976  611.799988  607.099976  608.549988   \n",
       "393  2022-11-30   SBIN  608.500000  611.400024  598.400024  602.450012   \n",
       "394  2022-12-01   SBIN  607.849976  609.799988  601.549988  608.099976   \n",
       "395  2022-12-02   SBIN  607.500000  609.599976  604.250000  607.549988   \n",
       "\n",
       "      Adj Close    Volume  \n",
       "0    342.054565  43691860  \n",
       "1    342.932617  57749307  \n",
       "2    346.737549  40872501  \n",
       "3    346.883881  36294427  \n",
       "4    349.518097  38357618  \n",
       "..          ...       ...  \n",
       "391  608.599976   7934274  \n",
       "392  608.549988   6942919  \n",
       "393  602.450012  15606230  \n",
       "394  608.099976  14209313  \n",
       "395  607.549988   7533838  \n",
       "\n",
       "[396 rows x 8 columns]"
      ]
     },
     "execution_count": 304,
     "metadata": {},
     "output_type": "execute_result"
    }
   ],
   "source": [
    "scrip_lastyear(\"SBIN\")\n"
   ]
  },
  {
   "cell_type": "code",
   "execution_count": 305,
   "metadata": {},
   "outputs": [
    {
     "data": {
      "text/plain": [
       "pandas.core.frame.DataFrame"
      ]
     },
     "execution_count": 305,
     "metadata": {},
     "output_type": "execute_result"
    }
   ],
   "source": [
    "type(scrip_lastyear(\"SBIN\"))"
   ]
  },
  {
   "cell_type": "code",
   "execution_count": 306,
   "metadata": {},
   "outputs": [],
   "source": [
    "ls=pd.read_excel(\"nifty_Symbols.xlsx\")\n"
   ]
  },
  {
   "cell_type": "code",
   "execution_count": 307,
   "metadata": {},
   "outputs": [
    {
     "name": "stdout",
     "output_type": "stream",
     "text": [
      "<class 'pandas.core.frame.DataFrame'>\n"
     ]
    }
   ],
   "source": [
    "print(type(ls))"
   ]
  },
  {
   "cell_type": "code",
   "execution_count": 308,
   "metadata": {},
   "outputs": [
    {
     "name": "stdout",
     "output_type": "stream",
     "text": [
      "<class 'pandas.core.series.Series'>\n"
     ]
    }
   ],
   "source": [
    "ls=ls.squeeze()\n",
    "print(type(ls))"
   ]
  },
  {
   "cell_type": "code",
   "execution_count": 309,
   "metadata": {},
   "outputs": [
    {
     "data": {
      "text/plain": [
       "range(0, 49)"
      ]
     },
     "execution_count": 309,
     "metadata": {},
     "output_type": "execute_result"
    }
   ],
   "source": [
    "range(len(ls))"
   ]
  },
  {
   "cell_type": "code",
   "execution_count": 310,
   "metadata": {},
   "outputs": [
    {
     "data": {
      "text/plain": [
       "'ADANIPORTS'"
      ]
     },
     "execution_count": 310,
     "metadata": {},
     "output_type": "execute_result"
    }
   ],
   "source": [
    "ls[0]"
   ]
  },
  {
   "cell_type": "code",
   "execution_count": 311,
   "metadata": {},
   "outputs": [
    {
     "data": {
      "text/html": [
       "<div>\n",
       "<style scoped>\n",
       "    .dataframe tbody tr th:only-of-type {\n",
       "        vertical-align: middle;\n",
       "    }\n",
       "\n",
       "    .dataframe tbody tr th {\n",
       "        vertical-align: top;\n",
       "    }\n",
       "\n",
       "    .dataframe thead th {\n",
       "        text-align: right;\n",
       "    }\n",
       "</style>\n",
       "<table border=\"1\" class=\"dataframe\">\n",
       "  <thead>\n",
       "    <tr style=\"text-align: right;\">\n",
       "      <th></th>\n",
       "      <th>Date</th>\n",
       "      <th>Symbol</th>\n",
       "      <th>Open</th>\n",
       "      <th>High</th>\n",
       "      <th>Low</th>\n",
       "      <th>Close</th>\n",
       "      <th>Adj Close</th>\n",
       "      <th>Volume</th>\n",
       "    </tr>\n",
       "  </thead>\n",
       "  <tbody>\n",
       "    <tr>\n",
       "      <th>0</th>\n",
       "      <td>2021-05-03</td>\n",
       "      <td>ADANIPORTS</td>\n",
       "      <td>727.650024</td>\n",
       "      <td>764.000000</td>\n",
       "      <td>713.750000</td>\n",
       "      <td>761.400024</td>\n",
       "      <td>750.901001</td>\n",
       "      <td>25953577</td>\n",
       "    </tr>\n",
       "    <tr>\n",
       "      <th>1</th>\n",
       "      <td>2021-05-04</td>\n",
       "      <td>ADANIPORTS</td>\n",
       "      <td>779.849976</td>\n",
       "      <td>782.000000</td>\n",
       "      <td>760.049988</td>\n",
       "      <td>768.750000</td>\n",
       "      <td>758.149658</td>\n",
       "      <td>31400296</td>\n",
       "    </tr>\n",
       "    <tr>\n",
       "      <th>2</th>\n",
       "      <td>2021-05-05</td>\n",
       "      <td>ADANIPORTS</td>\n",
       "      <td>772.000000</td>\n",
       "      <td>774.799988</td>\n",
       "      <td>732.700012</td>\n",
       "      <td>738.099976</td>\n",
       "      <td>727.922302</td>\n",
       "      <td>29426971</td>\n",
       "    </tr>\n",
       "    <tr>\n",
       "      <th>3</th>\n",
       "      <td>2021-05-06</td>\n",
       "      <td>ADANIPORTS</td>\n",
       "      <td>745.000000</td>\n",
       "      <td>753.700012</td>\n",
       "      <td>735.599976</td>\n",
       "      <td>740.799988</td>\n",
       "      <td>730.585083</td>\n",
       "      <td>11926793</td>\n",
       "    </tr>\n",
       "    <tr>\n",
       "      <th>4</th>\n",
       "      <td>2021-05-07</td>\n",
       "      <td>ADANIPORTS</td>\n",
       "      <td>747.700012</td>\n",
       "      <td>778.000000</td>\n",
       "      <td>745.250000</td>\n",
       "      <td>767.750000</td>\n",
       "      <td>757.163452</td>\n",
       "      <td>20782117</td>\n",
       "    </tr>\n",
       "    <tr>\n",
       "      <th>...</th>\n",
       "      <td>...</td>\n",
       "      <td>...</td>\n",
       "      <td>...</td>\n",
       "      <td>...</td>\n",
       "      <td>...</td>\n",
       "      <td>...</td>\n",
       "      <td>...</td>\n",
       "      <td>...</td>\n",
       "    </tr>\n",
       "    <tr>\n",
       "      <th>391</th>\n",
       "      <td>2022-11-28</td>\n",
       "      <td>ADANIPORTS</td>\n",
       "      <td>876.000000</td>\n",
       "      <td>885.250000</td>\n",
       "      <td>873.500000</td>\n",
       "      <td>878.599976</td>\n",
       "      <td>878.599976</td>\n",
       "      <td>4168244</td>\n",
       "    </tr>\n",
       "    <tr>\n",
       "      <th>392</th>\n",
       "      <td>2022-11-29</td>\n",
       "      <td>ADANIPORTS</td>\n",
       "      <td>878.000000</td>\n",
       "      <td>891.799988</td>\n",
       "      <td>874.650024</td>\n",
       "      <td>878.200012</td>\n",
       "      <td>878.200012</td>\n",
       "      <td>3663099</td>\n",
       "    </tr>\n",
       "    <tr>\n",
       "      <th>393</th>\n",
       "      <td>2022-11-30</td>\n",
       "      <td>ADANIPORTS</td>\n",
       "      <td>878.900024</td>\n",
       "      <td>884.150024</td>\n",
       "      <td>873.299988</td>\n",
       "      <td>881.000000</td>\n",
       "      <td>881.000000</td>\n",
       "      <td>3797377</td>\n",
       "    </tr>\n",
       "    <tr>\n",
       "      <th>394</th>\n",
       "      <td>2022-12-01</td>\n",
       "      <td>ADANIPORTS</td>\n",
       "      <td>884.750000</td>\n",
       "      <td>896.500000</td>\n",
       "      <td>882.000000</td>\n",
       "      <td>890.549988</td>\n",
       "      <td>890.549988</td>\n",
       "      <td>4491806</td>\n",
       "    </tr>\n",
       "    <tr>\n",
       "      <th>395</th>\n",
       "      <td>2022-12-02</td>\n",
       "      <td>ADANIPORTS</td>\n",
       "      <td>894.000000</td>\n",
       "      <td>903.599976</td>\n",
       "      <td>884.250000</td>\n",
       "      <td>888.200012</td>\n",
       "      <td>888.200012</td>\n",
       "      <td>6279538</td>\n",
       "    </tr>\n",
       "  </tbody>\n",
       "</table>\n",
       "<p>396 rows × 8 columns</p>\n",
       "</div>"
      ],
      "text/plain": [
       "           Date      Symbol        Open        High         Low       Close  \\\n",
       "0    2021-05-03  ADANIPORTS  727.650024  764.000000  713.750000  761.400024   \n",
       "1    2021-05-04  ADANIPORTS  779.849976  782.000000  760.049988  768.750000   \n",
       "2    2021-05-05  ADANIPORTS  772.000000  774.799988  732.700012  738.099976   \n",
       "3    2021-05-06  ADANIPORTS  745.000000  753.700012  735.599976  740.799988   \n",
       "4    2021-05-07  ADANIPORTS  747.700012  778.000000  745.250000  767.750000   \n",
       "..          ...         ...         ...         ...         ...         ...   \n",
       "391  2022-11-28  ADANIPORTS  876.000000  885.250000  873.500000  878.599976   \n",
       "392  2022-11-29  ADANIPORTS  878.000000  891.799988  874.650024  878.200012   \n",
       "393  2022-11-30  ADANIPORTS  878.900024  884.150024  873.299988  881.000000   \n",
       "394  2022-12-01  ADANIPORTS  884.750000  896.500000  882.000000  890.549988   \n",
       "395  2022-12-02  ADANIPORTS  894.000000  903.599976  884.250000  888.200012   \n",
       "\n",
       "      Adj Close    Volume  \n",
       "0    750.901001  25953577  \n",
       "1    758.149658  31400296  \n",
       "2    727.922302  29426971  \n",
       "3    730.585083  11926793  \n",
       "4    757.163452  20782117  \n",
       "..          ...       ...  \n",
       "391  878.599976   4168244  \n",
       "392  878.200012   3663099  \n",
       "393  881.000000   3797377  \n",
       "394  890.549988   4491806  \n",
       "395  888.200012   6279538  \n",
       "\n",
       "[396 rows x 8 columns]"
      ]
     },
     "execution_count": 311,
     "metadata": {},
     "output_type": "execute_result"
    }
   ],
   "source": [
    "scrip_lastyear(ls[0])"
   ]
  },
  {
   "cell_type": "code",
   "execution_count": 312,
   "metadata": {},
   "outputs": [
    {
     "name": "stdout",
     "output_type": "stream",
     "text": [
      "           Date      Symbol         Open         High          Low  \\\n",
      "0    2021-05-03  ADANIPORTS   727.650024   764.000000   713.750000   \n",
      "1    2021-05-04  ADANIPORTS   779.849976   782.000000   760.049988   \n",
      "2    2021-05-05  ADANIPORTS   772.000000   774.799988   732.700012   \n",
      "3    2021-05-06  ADANIPORTS   745.000000   753.700012   735.599976   \n",
      "4    2021-05-07  ADANIPORTS   747.700012   778.000000   745.250000   \n",
      "..          ...         ...          ...          ...          ...   \n",
      "391  2022-11-28  ASIANPAINT  3108.149902  3159.000000  3096.699951   \n",
      "392  2022-11-29  ASIANPAINT  3157.000000  3169.000000  3127.149902   \n",
      "393  2022-11-30  ASIANPAINT  3139.899902  3199.949951  3133.300049   \n",
      "394  2022-12-01  ASIANPAINT  3191.000000  3197.000000  3161.250000   \n",
      "395  2022-12-02  ASIANPAINT  3173.149902  3174.300049  3134.000000   \n",
      "\n",
      "           Close    Adj Close    Volume  \n",
      "0     761.400024   750.901001  25953577  \n",
      "1     768.750000   758.149658  31400296  \n",
      "2     738.099976   727.922302  29426971  \n",
      "3     740.799988   730.585083  11926793  \n",
      "4     767.750000   757.163452  20782117  \n",
      "..           ...          ...       ...  \n",
      "391  3151.199951  3151.199951    914689  \n",
      "392  3135.050049  3135.050049    877720  \n",
      "393  3175.149902  3175.149902   2547283  \n",
      "394  3179.350098  3179.350098    761717  \n",
      "395  3143.449951  3143.449951    932259  \n",
      "\n",
      "[792 rows x 8 columns]\n"
     ]
    }
   ],
   "source": [
    "print(pd.concat([scrip_lastyear(ls[0]),scrip_lastyear(ls[1])]))"
   ]
  },
  {
   "cell_type": "code",
   "execution_count": 313,
   "metadata": {},
   "outputs": [],
   "source": [
    "def nifty_df(ls):\n",
    "    import pandas as pd\n",
    "    tab=pd.DataFrame()\n",
    "    i=0\n",
    "    for i in range(len(ls)-1):\n",
    "        tab =pd.concat([tab,scrip_lastyear(ls[i])])\n",
    "    return tab\n",
    "    "
   ]
  },
  {
   "cell_type": "code",
   "execution_count": 314,
   "metadata": {},
   "outputs": [],
   "source": [
    "out=nifty_df(ls)"
   ]
  },
  {
   "cell_type": "code",
   "execution_count": 315,
   "metadata": {},
   "outputs": [
    {
     "name": "stdout",
     "output_type": "stream",
     "text": [
      "         Date      Symbol        Open        High         Low       Close  \\\n",
      "0  2021-05-03  ADANIPORTS  727.650024  764.000000  713.750000  761.400024   \n",
      "1  2021-05-04  ADANIPORTS  779.849976  782.000000  760.049988  768.750000   \n",
      "2  2021-05-05  ADANIPORTS  772.000000  774.799988  732.700012  738.099976   \n",
      "3  2021-05-06  ADANIPORTS  745.000000  753.700012  735.599976  740.799988   \n",
      "4  2021-05-07  ADANIPORTS  747.700012  778.000000  745.250000  767.750000   \n",
      "\n",
      "    Adj Close    Volume  \n",
      "0  750.901001  25953577  \n",
      "1  758.149658  31400296  \n",
      "2  727.922302  29426971  \n",
      "3  730.585083  11926793  \n",
      "4  757.163452  20782117  \n"
     ]
    }
   ],
   "source": [
    "print(out.head())"
   ]
  },
  {
   "cell_type": "code",
   "execution_count": 316,
   "metadata": {},
   "outputs": [
    {
     "data": {
      "text/plain": [
       "152064"
      ]
     },
     "execution_count": 316,
     "metadata": {},
     "output_type": "execute_result"
    }
   ],
   "source": [
    "out.size"
   ]
  },
  {
   "cell_type": "code",
   "execution_count": 317,
   "metadata": {},
   "outputs": [
    {
     "data": {
      "text/plain": [
       "(19008, 8)"
      ]
     },
     "execution_count": 317,
     "metadata": {},
     "output_type": "execute_result"
    }
   ],
   "source": [
    "out.shape"
   ]
  },
  {
   "cell_type": "code",
   "execution_count": 318,
   "metadata": {},
   "outputs": [],
   "source": [
    "out = out.reset_index(drop=True)\n"
   ]
  },
  {
   "cell_type": "code",
   "execution_count": 319,
   "metadata": {},
   "outputs": [],
   "source": [
    "out.to_excel(\"output.xlsx\")"
   ]
  },
  {
   "cell_type": "code",
   "execution_count": 320,
   "metadata": {},
   "outputs": [
    {
     "name": "stdout",
     "output_type": "stream",
     "text": [
      "https://query1.finance.yahoo.com/v7/finance/download/SBIN.NS?period1=1619766000&period2=1667545200&interval=1wk&events=history\n",
      "1619766000 1667545200\n"
     ]
    }
   ],
   "source": [
    "stockcode ='SBIN'\n",
    "\n",
    "ts1 = str(int(datetime.datetime(2021, 4, 30).timestamp())) \n",
    "ts2 = str(int(datetime.datetime(2022, 11, 4).timestamp()))\n",
    "\n",
    "#interval = '1d'\n",
    "interval = '1wk'\n",
    "#interval = '1mo'\n",
    "\n",
    "events = 'history'\n",
    "#events = 'div'\n",
    "#events = 'split'\n",
    "\n",
    "url = 'https://query1.finance.yahoo.com/v7/finance/download/'\\\n",
    "      + stockcode + '.NS?period1=' + ts1 + '&period2=' + ts2 + '&interval='\\\n",
    "      + interval + '&events=' + events\n",
    "\n",
    "print(url)\n",
    "print (ts1, ts2)"
   ]
  },
  {
   "cell_type": "code",
   "execution_count": null,
   "metadata": {},
   "outputs": [],
   "source": []
  },
  {
   "cell_type": "code",
   "execution_count": 321,
   "metadata": {},
   "outputs": [
    {
     "name": "stdout",
     "output_type": "stream",
     "text": [
      "0     ADANIPORTS\n",
      "1     ASIANPAINT\n",
      "2       AXISBANK\n",
      "3     BAJAJ-AUTO\n",
      "4     BAJAJFINSV\n",
      "5     BAJFINANCE\n",
      "6     BHARTIARTL\n",
      "7           BPCL\n",
      "8      BRITANNIA\n",
      "9          CIPLA\n",
      "10     COALINDIA\n",
      "11       DRREDDY\n",
      "12     EICHERMOT\n",
      "13          GAIL\n",
      "14        GRASIM\n",
      "15       HCLTECH\n",
      "16          HDFC\n",
      "17      HDFCBANK\n",
      "18    HEROMOTOCO\n",
      "19      HINDALCO\n",
      "20    HINDUNILVR\n",
      "21     ICICIBANK\n",
      "22    INDUSINDBK\n",
      "23          INFY\n",
      "24           IOC\n",
      "25           ITC\n",
      "26      JSWSTEEL\n",
      "27     KOTAKBANK\n",
      "28            LT\n",
      "29           M&M\n",
      "30        MARUTI\n",
      "31     NESTLEIND\n",
      "32          NTPC\n",
      "33          ONGC\n",
      "34     POWERGRID\n",
      "35      RELIANCE\n",
      "36          SBIN\n",
      "37      SHREECEM\n",
      "38     SUNPHARMA\n",
      "39    TATAMOTORS\n",
      "40     TATASTEEL\n",
      "41           TCS\n",
      "42         TECHM\n",
      "43         TITAN\n",
      "44    ULTRACEMCO\n",
      "45           UPL\n",
      "46          VEDL\n",
      "47         WIPRO\n",
      "48          ZEEL\n",
      "Name: Symbol, dtype: object\n"
     ]
    }
   ],
   "source": [
    "print(ls)"
   ]
  },
  {
   "cell_type": "code",
   "execution_count": 322,
   "metadata": {},
   "outputs": [
    {
     "name": "stdout",
     "output_type": "stream",
     "text": [
      "          Date        Open        High         Low       Close   Adj Close  \\\n",
      "0   2021-04-26  353.450012  362.500000  350.450012  353.500000  344.883850   \n",
      "1   2021-05-03  349.600006  362.899994  341.399994  358.250000  349.518097   \n",
      "2   2021-05-10  360.500000  373.500000  354.750000  360.450012  351.664490   \n",
      "3   2021-05-17  364.399994  404.399994  363.649994  401.200012  391.421234   \n",
      "4   2021-05-24  417.000000  433.649994  405.299988  422.049988  411.763031   \n",
      "..         ...         ...         ...         ...         ...         ...   \n",
      "75  2022-10-03  527.599976  541.799988  518.500000  530.200012  530.200012   \n",
      "76  2022-10-10  525.700012  535.000000  520.200012  527.200012  527.200012   \n",
      "77  2022-10-17  526.400024  565.799988  524.200012  560.849976  560.849976   \n",
      "78  2022-10-24  567.000000  586.200012  565.900024  570.750000  570.750000   \n",
      "79  2022-10-31  574.950012  596.950012  568.000000  593.950012  593.950012   \n",
      "\n",
      "       Volume  \n",
      "0    53832840  \n",
      "1   216965713  \n",
      "2   188790854  \n",
      "3   461372459  \n",
      "4   389900463  \n",
      "..        ...  \n",
      "75   38669678  \n",
      "76   50515580  \n",
      "77   66459940  \n",
      "78   47248566  \n",
      "79   75522687  \n",
      "\n",
      "[80 rows x 7 columns]\n"
     ]
    }
   ],
   "source": [
    "try:\n",
    "    stockdata = pd.read_csv(url)\n",
    "    print(stockdata)\n",
    "except:\n",
    "    print(\"Not able to fetch value for code : \"+stockcode)\n",
    "    print(\"Either stock code is not correct or could be connectivity issue..\")"
   ]
  },
  {
   "cell_type": "markdown",
   "metadata": {},
   "source": [
    "#### "
   ]
  }
 ],
 "metadata": {
  "kernelspec": {
   "display_name": "Python 3 (ipykernel)",
   "language": "python",
   "name": "python3"
  },
  "language_info": {
   "codemirror_mode": {
    "name": "ipython",
    "version": 3
   },
   "file_extension": ".py",
   "mimetype": "text/x-python",
   "name": "python",
   "nbconvert_exporter": "python",
   "pygments_lexer": "ipython3",
   "version": "3.9.12"
  }
 },
 "nbformat": 4,
 "nbformat_minor": 2
}
